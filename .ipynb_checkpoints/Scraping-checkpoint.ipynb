{
 "cells": [
  {
   "cell_type": "markdown",
   "id": "01ac22d3",
   "metadata": {},
   "source": [
    "# Scraping articles \n",
    "source: https://femminicidioitalia.info/lista/2022\n"
   ]
  },
  {
   "cell_type": "code",
   "execution_count": 47,
   "id": "7a65e192",
   "metadata": {},
   "outputs": [],
   "source": [
    "from selenium import webdriver \n",
    "from selenium.webdriver.common.keys import Keys\n",
    "from selenium.webdriver.common.by import By\n",
    "from selenium.webdriver.chrome.options import Options\n",
    "from selenium.webdriver.chrome.service import Service\n",
    "import time \n",
    "import os \n",
    "import wget \n",
    "import getpass\n",
    "import pandas as pd"
   ]
  },
  {
   "cell_type": "code",
   "execution_count": 2,
   "id": "46bc05e0",
   "metadata": {},
   "outputs": [],
   "source": [
    "s= Service('\\Applications\\chromedriver')"
   ]
  },
  {
   "cell_type": "markdown",
   "id": "1b29685a",
   "metadata": {},
   "source": [
    "How to set up selenium : https://www.youtube.com/watch?v=95OqqfGi2Eg"
   ]
  },
  {
   "cell_type": "code",
   "execution_count": 36,
   "id": "9192ea4f",
   "metadata": {},
   "outputs": [
    {
     "name": "stderr",
     "output_type": "stream",
     "text": [
      "/var/folders/27/q_rl13_54jg1vgws9ntkdmbr0000gn/T/ipykernel_36532/3033477291.py:3: DeprecationWarning: headless property is deprecated, instead use add_argument('--headless') or add_argument('--headless=new')\n",
      "  chromeOptions.headless= False\n"
     ]
    }
   ],
   "source": [
    "#Optional- set options\n",
    "chromeOptions = Options()\n",
    "chromeOptions.headless= False \n",
    "\n",
    "#initialize driver \n",
    "\n",
    "driver= webdriver.Chrome(service=s, options= chromeOptions)"
   ]
  },
  {
   "cell_type": "code",
   "execution_count": 39,
   "id": "84f216f9",
   "metadata": {},
   "outputs": [
    {
     "name": "stdout",
     "output_type": "stream",
     "text": [
      "opened\n"
     ]
    }
   ],
   "source": [
    "def open_website(): \n",
    "    driver.get(\"https://femminicidioitalia.info/\")\n",
    "    print(\"opened\")\n",
    "    #cookie banner \n",
    "    #cookie1=driver.find_element(By.XPATH, \"//a[@class='fc-button fc-cta-consent fc-primary-button']\")\n",
    "    #time.sleep(5)\n",
    "    #cookie1.click()\n",
    "\n",
    "open_website()\n",
    "    "
   ]
  },
  {
   "cell_type": "code",
   "execution_count": 46,
   "id": "5c067693",
   "metadata": {},
   "outputs": [
    {
     "name": "stdout",
     "output_type": "stream",
     "text": [
      "<class 'selenium.webdriver.remote.webelement.WebElement'>\n"
     ]
    }
   ],
   "source": [
    "#def save_data():\n",
    "\n",
    "year=driver.find_element(By.XPATH, \"//a[@title='Lista dei femminicidi in Italia nel 2023']\")\n",
    "year.click()\n",
    "l=driver.find_element(By.XPATH, \"//a[@title='Lista delle donne vittime di omicidio in Italia nel 2023']\")\n",
    "l.click()\n",
    "\n",
    "victim=driver.find_element(By.CLASS_NAME, \"victimName\")\n",
    "print(type(victim))\n",
    "\n",
    "victim.click()"
   ]
  },
  {
   "cell_type": "code",
   "execution_count": 54,
   "id": "dc869b87",
   "metadata": {},
   "outputs": [],
   "source": [
    "victim=[]\n",
    "killer=[]\n",
    "location=[]\n",
    "links=[]\n",
    "d={'victim': victim, 'killer': killer, 'location': location, 'links': links}\n",
    "df=pd.DataFrame(data=d)"
   ]
  },
  {
   "cell_type": "code",
   "execution_count": 55,
   "id": "d3a5dd38",
   "metadata": {},
   "outputs": [
    {
     "data": {
      "text/html": [
       "<div>\n",
       "<style scoped>\n",
       "    .dataframe tbody tr th:only-of-type {\n",
       "        vertical-align: middle;\n",
       "    }\n",
       "\n",
       "    .dataframe tbody tr th {\n",
       "        vertical-align: top;\n",
       "    }\n",
       "\n",
       "    .dataframe thead th {\n",
       "        text-align: right;\n",
       "    }\n",
       "</style>\n",
       "<table border=\"1\" class=\"dataframe\">\n",
       "  <thead>\n",
       "    <tr style=\"text-align: right;\">\n",
       "      <th></th>\n",
       "      <th>victim</th>\n",
       "      <th>killer</th>\n",
       "      <th>location</th>\n",
       "      <th>links</th>\n",
       "    </tr>\n",
       "  </thead>\n",
       "  <tbody>\n",
       "  </tbody>\n",
       "</table>\n",
       "</div>"
      ],
      "text/plain": [
       "Empty DataFrame\n",
       "Columns: [victim, killer, location, links]\n",
       "Index: []"
      ]
     },
     "execution_count": 55,
     "metadata": {},
     "output_type": "execute_result"
    }
   ],
   "source": [
    "df\n"
   ]
  },
  {
   "cell_type": "code",
   "execution_count": null,
   "id": "0b0999b4",
   "metadata": {},
   "outputs": [],
   "source": [
    "#recapvalue fontspecialelite \n",
    "ce ne sono 4, ognuno deve andare in una colonna "
   ]
  }
 ],
 "metadata": {
  "kernelspec": {
   "display_name": "Python 3 (ipykernel)",
   "language": "python",
   "name": "python3"
  },
  "language_info": {
   "codemirror_mode": {
    "name": "ipython",
    "version": 3
   },
   "file_extension": ".py",
   "mimetype": "text/x-python",
   "name": "python",
   "nbconvert_exporter": "python",
   "pygments_lexer": "ipython3",
   "version": "3.9.13"
  }
 },
 "nbformat": 4,
 "nbformat_minor": 5
}
