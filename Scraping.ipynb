{
 "cells": [
  {
   "cell_type": "markdown",
   "id": "01ac22d3",
   "metadata": {},
   "source": [
    "# Scraping articles \n",
    "source: https://femminicidioitalia.info/lista/2022\n"
   ]
  },
  {
   "cell_type": "code",
   "execution_count": 12,
   "id": "7a65e192",
   "metadata": {},
   "outputs": [],
   "source": [
    "from selenium import webdriver \n",
    "from selenium.webdriver.common.keys import Keys\n",
    "from selenium.webdriver.common.by import By\n",
    "from selenium.webdriver.chrome.options import Options\n",
    "from selenium.webdriver.chrome.service import Service\n",
    "import time \n",
    "import os \n",
    "import wget \n",
    "import getpass"
   ]
  },
  {
   "cell_type": "code",
   "execution_count": 31,
   "id": "46bc05e0",
   "metadata": {},
   "outputs": [],
   "source": [
    "s= Service('\\Applications\\chromedriver')"
   ]
  },
  {
   "cell_type": "markdown",
   "id": "1b29685a",
   "metadata": {},
   "source": [
    "How to set up selenium : https://www.youtube.com/watch?v=95OqqfGi2Eg"
   ]
  },
  {
   "cell_type": "code",
   "execution_count": 36,
   "id": "9192ea4f",
   "metadata": {},
   "outputs": [
    {
     "name": "stderr",
     "output_type": "stream",
     "text": [
      "/var/folders/27/q_rl13_54jg1vgws9ntkdmbr0000gn/T/ipykernel_24294/3033477291.py:3: DeprecationWarning: headless property is deprecated, instead use add_argument('--headless') or add_argument('--headless=new')\n",
      "  chromeOptions.headless= False\n"
     ]
    }
   ],
   "source": [
    "#Optional- set options\n",
    "chromeOptions = Options()\n",
    "chromeOptions.headless= False \n",
    "\n",
    "#initialize driver \n",
    "\n",
    "driver= webdriver.Chrome(service=s, options= chromeOptions)"
   ]
  },
  {
   "cell_type": "code",
   "execution_count": 39,
   "id": "84f216f9",
   "metadata": {},
   "outputs": [
    {
     "name": "stdout",
     "output_type": "stream",
     "text": [
      "opened\n"
     ]
    },
    {
     "ename": "NoSuchElementException",
     "evalue": "Message: no such element: Unable to locate element: {\"method\":\"css selector\",\"selector\":\".fc-button fc-cta-consent fc-primary-button\"}\n  (Session info: chrome=109.0.5414.87)\nStacktrace:\n0   chromedriver                        0x0000000104564fa8 chromedriver + 4886440\n1   chromedriver                        0x00000001044e2643 chromedriver + 4351555\n2   chromedriver                        0x0000000104130b27 chromedriver + 477991\n3   chromedriver                        0x000000010417576c chromedriver + 759660\n4   chromedriver                        0x00000001041759c1 chromedriver + 760257\n5   chromedriver                        0x00000001041b9204 chromedriver + 1036804\n6   chromedriver                        0x000000010419b5fd chromedriver + 914941\n7   chromedriver                        0x00000001041b65fe chromedriver + 1025534\n8   chromedriver                        0x000000010419b3a3 chromedriver + 914339\n9   chromedriver                        0x000000010416557f chromedriver + 693631\n10  chromedriver                        0x0000000104166b1e chromedriver + 699166\n11  chromedriver                        0x0000000104531b9e chromedriver + 4676510\n12  chromedriver                        0x000000010453691e chromedriver + 4696350\n13  chromedriver                        0x000000010453e19f chromedriver + 4727199\n14  chromedriver                        0x000000010453781a chromedriver + 4700186\n15  chromedriver                        0x000000010450aa62 chromedriver + 4516450\n16  chromedriver                        0x00000001045568c8 chromedriver + 4827336\n17  chromedriver                        0x0000000104556a45 chromedriver + 4827717\n18  chromedriver                        0x000000010456c7ef chromedriver + 4917231\n19  libsystem_pthread.dylib             0x00007ff8161454e1 _pthread_start + 125\n20  libsystem_pthread.dylib             0x00007ff816140f6b thread_start + 15\n",
     "output_type": "error",
     "traceback": [
      "\u001b[0;31m---------------------------------------------------------------------------\u001b[0m",
      "\u001b[0;31mNoSuchElementException\u001b[0m                    Traceback (most recent call last)",
      "\u001b[0;32m/var/folders/27/q_rl13_54jg1vgws9ntkdmbr0000gn/T/ipykernel_24294/2438189228.py\u001b[0m in \u001b[0;36m<module>\u001b[0;34m\u001b[0m\n\u001b[1;32m      7\u001b[0m     \u001b[0mcookie1\u001b[0m\u001b[0;34m.\u001b[0m\u001b[0mclick\u001b[0m\u001b[0;34m(\u001b[0m\u001b[0;34m)\u001b[0m\u001b[0;34m\u001b[0m\u001b[0;34m\u001b[0m\u001b[0m\n\u001b[1;32m      8\u001b[0m \u001b[0;34m\u001b[0m\u001b[0m\n\u001b[0;32m----> 9\u001b[0;31m \u001b[0mopen_website\u001b[0m\u001b[0;34m(\u001b[0m\u001b[0;34m)\u001b[0m\u001b[0;34m\u001b[0m\u001b[0;34m\u001b[0m\u001b[0m\n\u001b[0m\u001b[1;32m     10\u001b[0m \u001b[0;34m\u001b[0m\u001b[0m\n",
      "\u001b[0;32m/var/folders/27/q_rl13_54jg1vgws9ntkdmbr0000gn/T/ipykernel_24294/2438189228.py\u001b[0m in \u001b[0;36mopen_website\u001b[0;34m()\u001b[0m\n\u001b[1;32m      3\u001b[0m     \u001b[0mprint\u001b[0m\u001b[0;34m(\u001b[0m\u001b[0;34m\"opened\"\u001b[0m\u001b[0;34m)\u001b[0m\u001b[0;34m\u001b[0m\u001b[0;34m\u001b[0m\u001b[0m\n\u001b[1;32m      4\u001b[0m     \u001b[0;31m#cookie banner\u001b[0m\u001b[0;34m\u001b[0m\u001b[0;34m\u001b[0m\u001b[0m\n\u001b[0;32m----> 5\u001b[0;31m     \u001b[0mcookie1\u001b[0m\u001b[0;34m=\u001b[0m\u001b[0mdriver\u001b[0m\u001b[0;34m.\u001b[0m\u001b[0mfind_element\u001b[0m\u001b[0;34m(\u001b[0m\u001b[0mBy\u001b[0m\u001b[0;34m.\u001b[0m\u001b[0mCLASS_NAME\u001b[0m\u001b[0;34m,\u001b[0m \u001b[0;34m\"fc-button fc-cta-consent fc-primary-button\"\u001b[0m\u001b[0;34m)\u001b[0m\u001b[0;34m\u001b[0m\u001b[0;34m\u001b[0m\u001b[0m\n\u001b[0m\u001b[1;32m      6\u001b[0m     \u001b[0mtime\u001b[0m\u001b[0;34m.\u001b[0m\u001b[0msleep\u001b[0m\u001b[0;34m(\u001b[0m\u001b[0;36m5\u001b[0m\u001b[0;34m)\u001b[0m\u001b[0;34m\u001b[0m\u001b[0;34m\u001b[0m\u001b[0m\n\u001b[1;32m      7\u001b[0m     \u001b[0mcookie1\u001b[0m\u001b[0;34m.\u001b[0m\u001b[0mclick\u001b[0m\u001b[0;34m(\u001b[0m\u001b[0;34m)\u001b[0m\u001b[0;34m\u001b[0m\u001b[0;34m\u001b[0m\u001b[0m\n",
      "\u001b[0;32m~/opt/anaconda3/lib/python3.9/site-packages/selenium/webdriver/remote/webdriver.py\u001b[0m in \u001b[0;36mfind_element\u001b[0;34m(self, by, value)\u001b[0m\n\u001b[1;32m    828\u001b[0m             \u001b[0mvalue\u001b[0m \u001b[0;34m=\u001b[0m \u001b[0;34mf'[name=\"{value}\"]'\u001b[0m\u001b[0;34m\u001b[0m\u001b[0;34m\u001b[0m\u001b[0m\n\u001b[1;32m    829\u001b[0m \u001b[0;34m\u001b[0m\u001b[0m\n\u001b[0;32m--> 830\u001b[0;31m         \u001b[0;32mreturn\u001b[0m \u001b[0mself\u001b[0m\u001b[0;34m.\u001b[0m\u001b[0mexecute\u001b[0m\u001b[0;34m(\u001b[0m\u001b[0mCommand\u001b[0m\u001b[0;34m.\u001b[0m\u001b[0mFIND_ELEMENT\u001b[0m\u001b[0;34m,\u001b[0m \u001b[0;34m{\u001b[0m\u001b[0;34m\"using\"\u001b[0m\u001b[0;34m:\u001b[0m \u001b[0mby\u001b[0m\u001b[0;34m,\u001b[0m \u001b[0;34m\"value\"\u001b[0m\u001b[0;34m:\u001b[0m \u001b[0mvalue\u001b[0m\u001b[0;34m}\u001b[0m\u001b[0;34m)\u001b[0m\u001b[0;34m[\u001b[0m\u001b[0;34m\"value\"\u001b[0m\u001b[0;34m]\u001b[0m\u001b[0;34m\u001b[0m\u001b[0;34m\u001b[0m\u001b[0m\n\u001b[0m\u001b[1;32m    831\u001b[0m \u001b[0;34m\u001b[0m\u001b[0m\n\u001b[1;32m    832\u001b[0m     \u001b[0;32mdef\u001b[0m \u001b[0mfind_elements\u001b[0m\u001b[0;34m(\u001b[0m\u001b[0mself\u001b[0m\u001b[0;34m,\u001b[0m \u001b[0mby\u001b[0m\u001b[0;34m=\u001b[0m\u001b[0mBy\u001b[0m\u001b[0;34m.\u001b[0m\u001b[0mID\u001b[0m\u001b[0;34m,\u001b[0m \u001b[0mvalue\u001b[0m\u001b[0;34m:\u001b[0m \u001b[0mOptional\u001b[0m\u001b[0;34m[\u001b[0m\u001b[0mstr\u001b[0m\u001b[0;34m]\u001b[0m \u001b[0;34m=\u001b[0m \u001b[0;32mNone\u001b[0m\u001b[0;34m)\u001b[0m \u001b[0;34m->\u001b[0m \u001b[0mList\u001b[0m\u001b[0;34m[\u001b[0m\u001b[0mWebElement\u001b[0m\u001b[0;34m]\u001b[0m\u001b[0;34m:\u001b[0m\u001b[0;34m\u001b[0m\u001b[0;34m\u001b[0m\u001b[0m\n",
      "\u001b[0;32m~/opt/anaconda3/lib/python3.9/site-packages/selenium/webdriver/remote/webdriver.py\u001b[0m in \u001b[0;36mexecute\u001b[0;34m(self, driver_command, params)\u001b[0m\n\u001b[1;32m    438\u001b[0m         \u001b[0mresponse\u001b[0m \u001b[0;34m=\u001b[0m \u001b[0mself\u001b[0m\u001b[0;34m.\u001b[0m\u001b[0mcommand_executor\u001b[0m\u001b[0;34m.\u001b[0m\u001b[0mexecute\u001b[0m\u001b[0;34m(\u001b[0m\u001b[0mdriver_command\u001b[0m\u001b[0;34m,\u001b[0m \u001b[0mparams\u001b[0m\u001b[0;34m)\u001b[0m\u001b[0;34m\u001b[0m\u001b[0;34m\u001b[0m\u001b[0m\n\u001b[1;32m    439\u001b[0m         \u001b[0;32mif\u001b[0m \u001b[0mresponse\u001b[0m\u001b[0;34m:\u001b[0m\u001b[0;34m\u001b[0m\u001b[0;34m\u001b[0m\u001b[0m\n\u001b[0;32m--> 440\u001b[0;31m             \u001b[0mself\u001b[0m\u001b[0;34m.\u001b[0m\u001b[0merror_handler\u001b[0m\u001b[0;34m.\u001b[0m\u001b[0mcheck_response\u001b[0m\u001b[0;34m(\u001b[0m\u001b[0mresponse\u001b[0m\u001b[0;34m)\u001b[0m\u001b[0;34m\u001b[0m\u001b[0;34m\u001b[0m\u001b[0m\n\u001b[0m\u001b[1;32m    441\u001b[0m             \u001b[0mresponse\u001b[0m\u001b[0;34m[\u001b[0m\u001b[0;34m\"value\"\u001b[0m\u001b[0;34m]\u001b[0m \u001b[0;34m=\u001b[0m \u001b[0mself\u001b[0m\u001b[0;34m.\u001b[0m\u001b[0m_unwrap_value\u001b[0m\u001b[0;34m(\u001b[0m\u001b[0mresponse\u001b[0m\u001b[0;34m.\u001b[0m\u001b[0mget\u001b[0m\u001b[0;34m(\u001b[0m\u001b[0;34m\"value\"\u001b[0m\u001b[0;34m,\u001b[0m \u001b[0;32mNone\u001b[0m\u001b[0;34m)\u001b[0m\u001b[0;34m)\u001b[0m\u001b[0;34m\u001b[0m\u001b[0;34m\u001b[0m\u001b[0m\n\u001b[1;32m    442\u001b[0m             \u001b[0;32mreturn\u001b[0m \u001b[0mresponse\u001b[0m\u001b[0;34m\u001b[0m\u001b[0;34m\u001b[0m\u001b[0m\n",
      "\u001b[0;32m~/opt/anaconda3/lib/python3.9/site-packages/selenium/webdriver/remote/errorhandler.py\u001b[0m in \u001b[0;36mcheck_response\u001b[0;34m(self, response)\u001b[0m\n\u001b[1;32m    243\u001b[0m                 \u001b[0malert_text\u001b[0m \u001b[0;34m=\u001b[0m \u001b[0mvalue\u001b[0m\u001b[0;34m[\u001b[0m\u001b[0;34m\"alert\"\u001b[0m\u001b[0;34m]\u001b[0m\u001b[0;34m.\u001b[0m\u001b[0mget\u001b[0m\u001b[0;34m(\u001b[0m\u001b[0;34m\"text\"\u001b[0m\u001b[0;34m)\u001b[0m\u001b[0;34m\u001b[0m\u001b[0;34m\u001b[0m\u001b[0m\n\u001b[1;32m    244\u001b[0m             \u001b[0;32mraise\u001b[0m \u001b[0mexception_class\u001b[0m\u001b[0;34m(\u001b[0m\u001b[0mmessage\u001b[0m\u001b[0;34m,\u001b[0m \u001b[0mscreen\u001b[0m\u001b[0;34m,\u001b[0m \u001b[0mstacktrace\u001b[0m\u001b[0;34m,\u001b[0m \u001b[0malert_text\u001b[0m\u001b[0;34m)\u001b[0m  \u001b[0;31m# type: ignore[call-arg]  # mypy is not smart enough here\u001b[0m\u001b[0;34m\u001b[0m\u001b[0;34m\u001b[0m\u001b[0m\n\u001b[0;32m--> 245\u001b[0;31m         \u001b[0;32mraise\u001b[0m \u001b[0mexception_class\u001b[0m\u001b[0;34m(\u001b[0m\u001b[0mmessage\u001b[0m\u001b[0;34m,\u001b[0m \u001b[0mscreen\u001b[0m\u001b[0;34m,\u001b[0m \u001b[0mstacktrace\u001b[0m\u001b[0;34m)\u001b[0m\u001b[0;34m\u001b[0m\u001b[0;34m\u001b[0m\u001b[0m\n\u001b[0m",
      "\u001b[0;31mNoSuchElementException\u001b[0m: Message: no such element: Unable to locate element: {\"method\":\"css selector\",\"selector\":\".fc-button fc-cta-consent fc-primary-button\"}\n  (Session info: chrome=109.0.5414.87)\nStacktrace:\n0   chromedriver                        0x0000000104564fa8 chromedriver + 4886440\n1   chromedriver                        0x00000001044e2643 chromedriver + 4351555\n2   chromedriver                        0x0000000104130b27 chromedriver + 477991\n3   chromedriver                        0x000000010417576c chromedriver + 759660\n4   chromedriver                        0x00000001041759c1 chromedriver + 760257\n5   chromedriver                        0x00000001041b9204 chromedriver + 1036804\n6   chromedriver                        0x000000010419b5fd chromedriver + 914941\n7   chromedriver                        0x00000001041b65fe chromedriver + 1025534\n8   chromedriver                        0x000000010419b3a3 chromedriver + 914339\n9   chromedriver                        0x000000010416557f chromedriver + 693631\n10  chromedriver                        0x0000000104166b1e chromedriver + 699166\n11  chromedriver                        0x0000000104531b9e chromedriver + 4676510\n12  chromedriver                        0x000000010453691e chromedriver + 4696350\n13  chromedriver                        0x000000010453e19f chromedriver + 4727199\n14  chromedriver                        0x000000010453781a chromedriver + 4700186\n15  chromedriver                        0x000000010450aa62 chromedriver + 4516450\n16  chromedriver                        0x00000001045568c8 chromedriver + 4827336\n17  chromedriver                        0x0000000104556a45 chromedriver + 4827717\n18  chromedriver                        0x000000010456c7ef chromedriver + 4917231\n19  libsystem_pthread.dylib             0x00007ff8161454e1 _pthread_start + 125\n20  libsystem_pthread.dylib             0x00007ff816140f6b thread_start + 15\n"
     ]
    }
   ],
   "source": [
    "def open_website(): \n",
    "    driver.get(\"https://femminicidioitalia.info/\")\n",
    "    print(\"opened\")\n",
    "    #cookie banner \n",
    "    cookie1=driver.find_element(By.CLASS_NAME, \"fc-button fc-cta-consent fc-primary-button\")\n",
    "    time.sleep(5)\n",
    "    cookie1.click()\n",
    "\n",
    "open_website()\n",
    "    "
   ]
  },
  {
   "cell_type": "code",
   "execution_count": null,
   "id": "dc869b87",
   "metadata": {},
   "outputs": [],
   "source": []
  }
 ],
 "metadata": {
  "kernelspec": {
   "display_name": "Python 3 (ipykernel)",
   "language": "python",
   "name": "python3"
  },
  "language_info": {
   "codemirror_mode": {
    "name": "ipython",
    "version": 3
   },
   "file_extension": ".py",
   "mimetype": "text/x-python",
   "name": "python",
   "nbconvert_exporter": "python",
   "pygments_lexer": "ipython3",
   "version": "3.9.13"
  }
 },
 "nbformat": 4,
 "nbformat_minor": 5
}
