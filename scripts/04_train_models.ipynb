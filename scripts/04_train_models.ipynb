{
  "nbformat": 4,
  "nbformat_minor": 0,
  "metadata": {
    "colab": {
      "provenance": [],
      "mount_file_id": "1hCadyiE5cZC0KdJJCpXP9cRCl_zgQWK5",
      "authorship_tag": "ABX9TyP+F4YIgPqVtjvyZpSwH3yX",
      "include_colab_link": true
    },
    "kernelspec": {
      "name": "python3",
      "display_name": "Python 3"
    },
    "language_info": {
      "name": "python"
    }
  },
  "cells": [
    {
      "cell_type": "markdown",
      "metadata": {
        "id": "view-in-github",
        "colab_type": "text"
      },
      "source": [
        "<a href=\"https://colab.research.google.com/github/francescagiacco/feminicides-italy/blob/main/scripts/04_train_models.ipynb\" target=\"_parent\"><img src=\"https://colab.research.google.com/assets/colab-badge.svg\" alt=\"Open In Colab\"/></a>"
      ]
    },
    {
      "cell_type": "markdown",
      "source": [
        "**TRAIN MACHINE LEARNING MODELS**"
      ],
      "metadata": {
        "id": "NMMaSLIzYLWG"
      }
    },
    {
      "cell_type": "markdown",
      "source": [
        "In this script I train some machine learning models to predict the victim blaming score from the manual labels. I train them on the 3-classes and binary scores\n"
      ],
      "metadata": {
        "id": "BRI92_HIYRaW"
      }
    },
    {
      "cell_type": "code",
      "execution_count": null,
      "metadata": {
        "id": "2y_ahzGCPYco"
      },
      "outputs": [],
      "source": [
        "import pandas as pd\n",
        "import os\n",
        "import matplotlib.pyplot as plt\n",
        "import seaborn as sns\n",
        "import numpy as np\n",
        "\n",
        "# Sklearn functions and models\n",
        "from sklearn.model_selection import train_test_split\n",
        "from sklearn.feature_selection import mutual_info_classif\n",
        "from sklearn.linear_model import LogisticRegression\n",
        "from sklearn.metrics import accuracy_score, f1_score\n",
        "from sklearn.model_selection import KFold\n",
        "from sklearn.model_selection import cross_val_score\n",
        "from sklearn.metrics import confusion_matrix\n",
        "from sklearn.svm import SVC\n",
        "from sklearn.neighbors import KNeighborsClassifier\n",
        "from sklearn.tree import DecisionTreeClassifier\n",
        "import xgboost as xgb\n",
        "from sklearn.feature_extraction.text import CountVectorizer\n",
        "from imblearn.over_sampling import SMOTE"
      ]
    },
    {
      "cell_type": "code",
      "source": [
        "#open dataset\n",
        "from google.colab import drive\n",
        "\n",
        "df=pd.read_csv(\"/content/drive/MyDrive/thesis/labeltest.csv\")\n"
      ],
      "metadata": {
        "colab": {
          "base_uri": "https://localhost:8080/"
        },
        "id": "rGpdH3OkjAD5",
        "outputId": "3f53557f-2d7e-4fd2-b568-ba33f82f963c"
      },
      "execution_count": null,
      "outputs": [
        {
          "output_type": "stream",
          "name": "stderr",
          "text": [
            "<ipython-input-13-8f0b7dc12a96>:4: DtypeWarning: Columns (14,27,48) have mixed types. Specify dtype option on import or set low_memory=False.\n",
            "  df=pd.read_csv(\"/content/drive/MyDrive/thesis/labeltest.csv\")\n"
          ]
        }
      ]
    },
    {
      "cell_type": "code",
      "source": [
        "#select only labeled data\n",
        "df=df[~df['vb_manual'].isna()]\n",
        "\n",
        "len(df)\n"
      ],
      "metadata": {
        "colab": {
          "base_uri": "https://localhost:8080/"
        },
        "id": "x_nP-RsjlExV",
        "outputId": "2f375983-a34d-491e-8201-f7a429194e1b"
      },
      "execution_count": null,
      "outputs": [
        {
          "output_type": "execute_result",
          "data": {
            "text/plain": [
              "2682"
            ]
          },
          "metadata": {},
          "execution_count": 14
        }
      ]
    },
    {
      "cell_type": "code",
      "source": [
        "#create 3 classes \n",
        "s=[]\n",
        "\n",
        "for i in df[\"vb_manual\"]: \n",
        "  if i>4 :\n",
        "    s.append(2) \n",
        "  elif i>2 : \n",
        "    s.append(1)\n",
        "  else: \n",
        "    s.append(0)\n",
        "\n",
        "df[\"lab_3\"]= s\n",
        "               "
      ],
      "metadata": {
        "id": "imMqFg-Mjbor"
      },
      "execution_count": null,
      "outputs": []
    },
    {
      "cell_type": "code",
      "source": [
        "#create 2 classes \n",
        "l=[]\n",
        "for i in df[\"vb_manual\"]: \n",
        "  if i>4 :\n",
        "    l.append(1)\n",
        "  else: \n",
        "    l.append(0)\n",
        "\n",
        "df[\"lab_b\"]= l\n",
        "               "
      ],
      "metadata": {
        "id": "wz5fMdwllOtA"
      },
      "execution_count": null,
      "outputs": []
    },
    {
      "cell_type": "code",
      "source": [
        "plt.hist(df[\"lab_3\"], bins=5, density=True)\n",
        "plt.show()"
      ],
      "metadata": {
        "colab": {
          "base_uri": "https://localhost:8080/",
          "height": 430
        },
        "id": "3tf8oKpHlhCK",
        "outputId": "4596ce95-60cb-46d2-a336-7b175bab2cca"
      },
      "execution_count": null,
      "outputs": [
        {
          "output_type": "display_data",
          "data": {
            "text/plain": [
              "<Figure size 640x480 with 1 Axes>"
            ],
            "image/png": "[encoded data removed]"
          },
          "metadata": {}
        }
      ]
    },
    {
      "cell_type": "code",
      "source": [
        "count = df['lab_b'].value_counts()\n",
        "print(count)"
      ],
      "metadata": {
        "colab": {
          "base_uri": "https://localhost:8080/"
        },
        "id": "Om3wnx7Dn4y4",
        "outputId": "286e225c-0955-41f8-a6f2-cbca652a6a26"
      },
      "execution_count": null,
      "outputs": [
        {
          "output_type": "stream",
          "name": "stdout",
          "text": [
            "0    2442\n",
            "1     240\n",
            "Name: lab_b, dtype: int64\n"
          ]
        }
      ]
    },
    {
      "cell_type": "markdown",
      "source": [
        "## Data Cleaning"
      ],
      "metadata": {
        "id": "j71sjU2ALiFb"
      }
    },
    {
      "cell_type": "code",
      "source": [
        "! pip install stop-words\n",
        "from stop_words import get_stop_words\n",
        "\n",
        "stop = get_stop_words('italian')\n",
        "exclusions = '|'.join(stop)\n",
        "\n",
        "import re\n",
        "def processSentence(sen):\n",
        "    # To lowercase\n",
        "    sen = sen.lower()\n",
        "    \n",
        "    # Remove Punctuation and split 's, 't, 've with a space for filter\n",
        "    sen = ' '.join(re.sub(\"(@[A-Za-z0-9]+)|(#)|(\\w+:\\/\\/\\S+)|(\\S*\\d\\S*)|([,;.?!:])\",\n",
        "                                           \" \", sen).split())\n",
        "    # Remove words with 2 or fewer letters\n",
        "    sen = re.sub(r'\\b\\w{1,3}\\b', '', sen)\n",
        "    # Remove whitespace (including new line characters)\n",
        "    sen = re.sub(r'\\s\\s+', ' ', sen)\n",
        "    sen = re.sub(exclusions, '', sen)\n",
        "   \n",
        "    \n",
        "    return sen\n",
        "df['sen'] = df['sentence'].apply(processSentence)"
      ],
      "metadata": {
        "colab": {
          "base_uri": "https://localhost:8080/"
        },
        "id": "skms8I57EifI",
        "outputId": "362cb850-a14d-4e32-9519-3db4ca90fefe"
      },
      "execution_count": null,
      "outputs": [
        {
          "output_type": "stream",
          "name": "stdout",
          "text": [
            "Looking in indexes: https://pypi.org/simple, https://us-python.pkg.dev/colab-wheels/public/simple/\n",
            "Collecting stop-words\n",
            "  Downloading stop-words-2018.7.23.tar.gz (31 kB)\n",
            "  Preparing metadata (setup.py) ... \u001b[?25l\u001b[?25hdone\n",
            "Building wheels for collected packages: stop-words\n",
            "  Building wheel for stop-words (setup.py) ... \u001b[?25l\u001b[?25hdone\n",
            "  Created wheel for stop-words: filename=stop_words-2018.7.23-py3-none-any.whl size=32897 sha256=36e6abc8f360b3c29deab6303592c5ebc924628981ffdf6f08978f466c509ea9\n",
            "  Stored in directory: /root/.cache/pip/wheels/d0/1a/23/f12552a50cb09bcc1694a5ebb6c2cd5f2a0311de2b8c3d9a89\n",
            "Successfully built stop-words\n",
            "Installing collected packages: stop-words\n",
            "Successfully installed stop-words-2018.7.23\n"
          ]
        }
      ]
    },
    {
      "cell_type": "markdown",
      "source": [
        "## Train Models "
      ],
      "metadata": {
        "id": "H-xsp_EELnWc"
      }
    },
    {
      "cell_type": "code",
      "source": [
        "X=list(df['sen'])\n",
        "y=list(df['lab_b'])\n"
      ],
      "metadata": {
        "id": "VwZ3hYmaBo9R"
      },
      "execution_count": null,
      "outputs": []
    },
    {
      "cell_type": "code",
      "source": [
        "# In the first step we will split the data in training and remaining dataset\n",
        "# In the first step we will split the data in training and remaining dataset\n",
        "X_train, X_rem, y_train, y_rem = train_test_split(X, y, train_size=0.8)\n",
        "\n",
        "# Now since we want the valid and test size to be equal (10% each of overall data). \n",
        "# we have to define valid_size=0.5 (that is 50% of remaining data)\n",
        "test_size = 0.5\n",
        "X_val, X_test, y_val, y_test = train_test_split(X_rem,y_rem, test_size=0.5)\n"
      ],
      "metadata": {
        "id": "Wq1qwNAXQd-b"
      },
      "execution_count": null,
      "outputs": []
    },
    {
      "cell_type": "code",
      "source": [
        "# Convert the text to a bag-of-words representation\n",
        "vectorizer = CountVectorizer()\n",
        "X_train = vectorizer.fit_transform(X_train)\n",
        "X_val = vectorizer.transform(X_val)\n",
        "X_test = vectorizer.transform(X_test)"
      ],
      "metadata": {
        "id": "N2_2bKO1D1c3"
      },
      "execution_count": null,
      "outputs": []
    },
    {
      "cell_type": "code",
      "source": [
        "# Train a logistic regression classifier\n",
        "classifier = LogisticRegression()\n",
        "classifier.fit(smote_data_x, smote_data_y)\n",
        "\n",
        "# Make predictions on the test set\n",
        "y_pred = classifier.predict(X_val)\n",
        "\n",
        "# Evaluate the accuracy of the classifier\n",
        "accuracy = accuracy_score(y_val, y_pred)\n",
        "f1=f1_score(y_val, y_pred, average='macro') #,average='macro'\n",
        "print(\"Accuracy:\", accuracy)\n",
        "print(\"f1:\", f1)"
      ],
      "metadata": {
        "colab": {
          "base_uri": "https://localhost:8080/"
        },
        "id": "kML-yF3_Ne_5",
        "outputId": "867e5ba5-d234-4804-e06e-261ab91bcd12"
      },
      "execution_count": null,
      "outputs": [
        {
          "output_type": "stream",
          "name": "stdout",
          "text": [
            "Accuracy: 0.7761194029850746\n",
            "f1: 0.5592105263157895\n"
          ]
        }
      ]
    },
    {
      "cell_type": "markdown",
      "source": [
        "Binary: \n",
        "Accuracy: 0.9104477611940298\n",
        "f1: 0.5762845849802372"
      ],
      "metadata": {
        "id": "nsyewnEoRy0Y"
      }
    },
    {
      "cell_type": "code",
      "source": [
        "os=SMOTE(random_state=0)\n",
        "smote_data_x, smote_data_y=os.fit_resample(X_train, y_train)"
      ],
      "metadata": {
        "id": "qHVlIgJXNw-e"
      },
      "execution_count": null,
      "outputs": []
    },
    {
      "cell_type": "markdown",
      "source": [
        "### Logistic Regression with SMOTE\n"
      ],
      "metadata": {
        "id": "KxFCpb0VLucW"
      }
    },
    {
      "cell_type": "code",
      "source": [
        "# Train a logistic regression classifier\n",
        "classifier = LogisticRegression()\n",
        "classifier.fit(smote_data_x, smote_data_y)\n",
        "\n",
        "# Make predictions on the test set\n",
        "y_pred = classifier.predict(X_val)\n",
        "\n",
        "# Evaluate the accuracy of the classifier\n",
        "accuracy = accuracy_score(y_val, y_pred)\n",
        "f1=f1_score(y_val, y_pred,average='macro')\n",
        "print(\"Accuracy:\", accuracy)\n",
        "print(\"f1:\", f1)"
      ],
      "metadata": {
        "colab": {
          "base_uri": "https://localhost:8080/"
        },
        "id": "tS8wxOeSOBIh",
        "outputId": "75daddae-972a-4156-dfb9-e655ea86daa1"
      },
      "execution_count": null,
      "outputs": [
        {
          "output_type": "stream",
          "name": "stdout",
          "text": [
            "Accuracy: 0.7089552238805971\n",
            "f1: 0.4011645398900301\n"
          ]
        },
        {
          "output_type": "stream",
          "name": "stderr",
          "text": [
            "/usr/local/lib/python3.10/dist-packages/sklearn/linear_model/_logistic.py:458: ConvergenceWarning: lbfgs failed to converge (status=1):\n",
            "STOP: TOTAL NO. of ITERATIONS REACHED LIMIT.\n",
            "\n",
            "Increase the number of iterations (max_iter) or scale the data as shown in:\n",
            "    https://scikit-learn.org/stable/modules/preprocessing.html\n",
            "Please also refer to the documentation for alternative solver options:\n",
            "    https://scikit-learn.org/stable/modules/linear_model.html#logistic-regression\n",
            "  n_iter_i = _check_optimize_result(\n"
          ]
        }
      ]
    },
    {
      "cell_type": "markdown",
      "source": [
        "**Logistic regression**\n",
        "* binary: Accuracy: 0.7686567164179104\n",
        "f1: 0.5348785130444519\n",
        "* 3 classes : f1: 0.3645368072123449\n"
      ],
      "metadata": {
        "id": "1BOpGZhyLDk_"
      }
    },
    {
      "cell_type": "markdown",
      "source": [
        "### SVM "
      ],
      "metadata": {
        "id": "qEHKu97KMXb9"
      }
    },
    {
      "cell_type": "code",
      "source": [
        "for i in ['linear', 'poly', 'rbf', 'sigmoid']: #try all different Kernel method\n",
        "        print(f'SVM method: {i} \\n')\n",
        "        classifier= SVC(kernel = i, random_state = 0)\n",
        "        classifier.fit(smote_data_x, smote_data_y)\n",
        "        y_pred = classifier.predict(X_val)\n",
        "\n",
        "\n",
        "        accuracy = accuracy_score(y_val, y_pred)\n",
        "        f1=f1_score(y_val, y_pred, average='macro') #\n",
        "        print(f\"Accuracy of kernel {i} is: {accuracy}\")\n",
        "        print(f\"f1 of kernel {i} is: {f1}\")\n",
        "       \n",
        "\n"
      ],
      "metadata": {
        "colab": {
          "base_uri": "https://localhost:8080/"
        },
        "id": "dZlx-5qlLP4Q",
        "outputId": "daa353c6-3a58-4a0b-b427-9cbd4db28099"
      },
      "execution_count": null,
      "outputs": [
        {
          "output_type": "stream",
          "name": "stdout",
          "text": [
            "SVM method: linear \n",
            "\n",
            "Accuracy of kernel linear is: 0.7985074626865671\n",
            "f1 of kernel linear is: 0.5668103448275862\n",
            "SVM method: poly \n",
            "\n",
            "Accuracy of kernel poly is: 0.417910447761194\n",
            "f1 of kernel poly is: 0.3577880184331797\n",
            "SVM method: rbf \n",
            "\n",
            "Accuracy of kernel rbf is: 0.8395522388059702\n",
            "f1 of kernel rbf is: 0.4985859113257625\n",
            "SVM method: sigmoid \n",
            "\n",
            "Accuracy of kernel sigmoid is: 0.7574626865671642\n",
            "f1 of kernel sigmoid is: 0.4961677512653651\n"
          ]
        }
      ]
    },
    {
      "cell_type": "markdown",
      "source": [
        "#balanced classes and binary\n",
        "SVM method: linear \n",
        "\n",
        "Accuracy of kernel linear is: 0.8059701492537313\n",
        "f1 of kernel linear is: 0.5620915032679739\n",
        "SVM method: poly \n",
        "\n",
        "Accuracy of kernel poly is: 0.40298507462686567\n",
        "f1 of kernel poly is: 0.3308364544319601\n",
        "SVM method: rbf \n",
        "\n",
        "Accuracy of kernel rbf is: 0.8507462686567164\n",
        "f1 of kernel rbf is: 0.4833236938500097\n",
        "SVM method: sigmoid \n",
        "\n",
        "Accuracy of kernel sigmoid is: 0.7723880597014925\n",
        "f1 of kernel sigmoid is: 0.5374473021531846"
      ],
      "metadata": {
        "id": "q1KgAInCOYo-"
      }
    },
    {
      "cell_type": "markdown",
      "source": [
        "# balanced- 3 classes \n",
        "SVM method: linear \n",
        "\n",
        "Accuracy of kernel linear is: 0.7238805970149254\n",
        "f1 of kernel linear is: 0.3694659071682364\n",
        "SVM method: poly \n",
        "\n",
        "Accuracy of kernel poly is: 0.47761194029850745\n",
        "f1 of kernel poly is: 0.2734074139400888\n",
        "SVM method: rbf \n",
        "\n",
        "Accuracy of kernel rbf is: 0.8134328358208955\n",
        "f1 of kernel rbf is: 0.3164419312744671\n",
        "SVM method: sigmoid \n",
        "\n",
        "Accuracy of kernel sigmoid is: 0.6828358208955224\n",
        "f1 of kernel sigmoid is: 0.3149062965576727"
      ],
      "metadata": {
        "id": "I-0zCtwEPjgy"
      }
    },
    {
      "cell_type": "code",
      "source": [
        "classifier = KNeighborsClassifier(n_neighbors = 9, metric = 'minkowski', p = 2)\n",
        "classifier.fit(smote_data_x, smote_data_y)\n",
        "y_pred = classifier.predict(X_val)\n",
        "  \n",
        "accuracy = accuracy_score(y_val, y_pred)\n",
        "f1=f1_score(y_val, y_pred, average='macro') #\n",
        "print(f\"Neighboors classifier accuracy score: {accuracy}\")\n",
        "print(f\"f1 is: {f1}\")\n",
        "#spec1 = specificity(y_val, y_pred)\n",
        "#print(f\"Neighboors classifier specificity score: {spec1}\")"
      ],
      "metadata": {
        "colab": {
          "base_uri": "https://localhost:8080/"
        },
        "id": "GfohdjbzPsYh",
        "outputId": "f2fd68ae-8f69-4bbb-a41c-fd3f83738f96"
      },
      "execution_count": null,
      "outputs": [
        {
          "output_type": "stream",
          "name": "stdout",
          "text": [
            "Neighboors classifier accuracy score: 0.12686567164179105\n",
            "f1 is: 0.12290909090909091\n"
          ]
        }
      ]
    },
    {
      "cell_type": "markdown",
      "source": [
        "### Decision tree"
      ],
      "metadata": {
        "id": "veQh0wzIS2i4"
      }
    },
    {
      "cell_type": "code",
      "source": [
        "classifier = DecisionTreeClassifier(criterion = 'entropy', random_state = 0) #,\n",
        "classifier.fit(smote_data_x, smote_data_y)\n",
        "y_pred = classifier.predict(X_val)\n",
        "accuracy = accuracy_score(y_val, y_pred)\n",
        "f1=f1_score(y_val, y_pred, average='macro')\n",
        "print(f\"Decision tree accuracy score: {accuracy}\")\n",
        "print(f\"f1 is: {f1}\")"
      ],
      "metadata": {
        "colab": {
          "base_uri": "https://localhost:8080/"
        },
        "id": "4YHmj6UkS1oD",
        "outputId": "b180d26f-829f-45aa-83ed-f26b0fa177dc"
      },
      "execution_count": null,
      "outputs": [
        {
          "output_type": "stream",
          "name": "stdout",
          "text": [
            "Decision tree accuracy score: 0.7388059701492538\n",
            "f1 is: 0.49607822069410124\n"
          ]
        }
      ]
    },
    {
      "cell_type": "markdown",
      "source": [
        "**XGBoost**"
      ],
      "metadata": {
        "id": "QHjo_v7yw6bY"
      }
    },
    {
      "cell_type": "code",
      "source": [
        "classifier = xgb.XGBClassifier(random_state=42)#objective=\"multi:softprob\", \n",
        "classifier.fit(smote_data_x, smote_data_y)\n",
        "y_pred = classifier.predict(X_val)\n",
        "accuracy = accuracy_score(y_val, y_pred)\n",
        "f1=f1_score(y_val, y_pred, average='macro')\n",
        "print(f\"accuracy score: {accuracy}\")\n",
        "print(f\"f1 is: {f1}\")"
      ],
      "metadata": {
        "colab": {
          "base_uri": "https://localhost:8080/"
        },
        "id": "-fTPvzUvUuEw",
        "outputId": "0bd5f1a8-4d46-4d7d-9ef0-736d6671a884"
      },
      "execution_count": null,
      "outputs": [
        {
          "output_type": "stream",
          "name": "stdout",
          "text": [
            "accuracy score: 0.9067164179104478\n",
            "f1 is: 0.5720217183008623\n"
          ]
        }
      ]
    },
    {
      "cell_type": "code",
      "source": [
        "from sklearn.experimental import enable_hist_gradient_boosting\n",
        "from sklearn.ensemble import HistGradientBoostingClassifier\n",
        "from xgboost import XGBClassifier\n",
        "from sklearn.model_selection import RepeatedStratifiedKFold"
      ],
      "metadata": {
        "id": "208n32GoyLtK",
        "colab": {
          "base_uri": "https://localhost:8080/"
        },
        "outputId": "4b28c8e1-f3e6-4223-e073-f144b72e7361"
      },
      "execution_count": null,
      "outputs": [
        {
          "output_type": "stream",
          "name": "stderr",
          "text": [
            "/usr/local/lib/python3.10/dist-packages/sklearn/experimental/enable_hist_gradient_boosting.py:16: UserWarning: Since version 1.0, it is not needed to import enable_hist_gradient_boosting anymore. HistGradientBoostingClassifier and HistGradientBoostingRegressor are now stable and can be normally imported from sklearn.ensemble.\n",
            "  warnings.warn(\n"
          ]
        }
      ]
    },
    {
      "cell_type": "code",
      "source": [
        "import pickle\n",
        "classifier = XGBClassifier(tree_method='approx', max_bin=255, n_estimators=250)\n",
        "cv = RepeatedStratifiedKFold(n_splits=10, n_repeats=3, random_state=1)\n",
        "\n",
        "scores = cross_val_score(classifier, smote_data_x , smote_data_y, cv=cv, scoring='f1_macro')\n",
        "print(f\"F1-score: {scores.mean():.2f} (std: {scores.std():.2f})\")\n",
        "\n",
        "# Save the trained model to a file\n",
        "with open('model.pkl', 'wb') as f:\n",
        "    pickle.dump(classifier, f)"
      ],
      "metadata": {
        "colab": {
          "base_uri": "https://localhost:8080/"
        },
        "id": "OxKC-1SSygzc",
        "outputId": "136d96da-0e89-4883-eb84-418bc1b0c019"
      },
      "execution_count": null,
      "outputs": [
        {
          "output_type": "stream",
          "name": "stdout",
          "text": [
            "F1-score: 0.95 (std: 0.01)\n"
          ]
        }
      ]
    },
    {
      "cell_type": "code",
      "source": [
        "# Load the trained model from the file\n",
        "with open('model.pkl', 'rb') as f:\n",
        "    classifier = pickle.load(f)\n",
        "\n",
        "classifier.fit(smote_data_x, smote_data_y)\n",
        "\n",
        "# Make predictions on the X_val data\n",
        "y_pred = classifier.predict(X_val)\n",
        "\n",
        "# Compute the F1-score of the predictions\n",
        "f1 = f1_score(y_val, y_pred, average='macro')\n",
        "print(f\"f1 is: {f1}\")"
      ],
      "metadata": {
        "colab": {
          "base_uri": "https://localhost:8080/"
        },
        "id": "KmyZ4Hi28q9p",
        "outputId": "9e9c9a29-b9ec-4f2b-d348-da9f0323fe44"
      },
      "execution_count": null,
      "outputs": [
        {
          "output_type": "stream",
          "name": "stdout",
          "text": [
            "f1 is: 0.5082719685812469\n"
          ]
        }
      ]
    },
    {
      "cell_type": "markdown",
      "source": [
        "Neighboors classifier accuracy score: 0.10074626865671642\n",
        "f1 is: 0.10735647709365524"
      ],
      "metadata": {
        "id": "UYO5cIswRgMs"
      }
    }
  ]
}